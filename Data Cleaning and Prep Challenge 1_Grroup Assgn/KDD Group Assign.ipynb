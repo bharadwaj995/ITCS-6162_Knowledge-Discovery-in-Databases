{
 "cells": [
  {
   "cell_type": "markdown",
   "metadata": {},
   "source": [
    "# <font color=\"red\">Data pre-processing and exploration activities with the Global Shark Attack File</font>"
   ]
  },
  {
   "cell_type": "markdown",
   "metadata": {},
   "source": [
    "## <font color=\"Dodgerblue\">Data Cleaning and Prep Challenge 1</font>"
   ]
  },
  {
   "cell_type": "markdown",
   "metadata": {},
   "source": [
    "## <font color=\"green\">Research objective : Binned Time of attack for USA attacks (by state, region, overall)</font>\n",
    "\n",
    "### Group 3\n",
    "\n",
    "#### <b>Group Members :</b>\n",
    "- <b>Bharadwaj Aryasomayajula</b>\n",
    " \n",
    " \n",
    "- <b>Mahanth Mukesh</b>\n",
    " \n",
    " \n",
    "- <b>Akhil Morampudi</b>\n",
    " \n",
    " \n",
    "- <b>Ravi Theja Goalla</b>\n"
   ]
  },
  {
   "cell_type": "code",
   "execution_count": 1,
   "metadata": {},
   "outputs": [],
   "source": [
    "#Import all the necessary libraries\n",
    "import numpy as np\n",
    "import pandas as pd\n",
    "import seaborn as sns\n",
    "import matplotlib.pyplot as plt\n",
    "import chart_studio.plotly as py\n",
    "import plotly.graph_objects as go"
   ]
  },
  {
   "cell_type": "markdown",
   "metadata": {},
   "source": [
    "### Read the dataset file"
   ]
  },
  {
   "cell_type": "code",
   "execution_count": 2,
   "metadata": {},
   "outputs": [],
   "source": [
    "df = pd.read_excel('GSAF5-1.xls')"
   ]
  },
  {
   "cell_type": "markdown",
   "metadata": {},
   "source": [
    "### The below methods are used to delete all the leading and trailing characters mentioned in its argument."
   ]
  },
  {
   "cell_type": "code",
   "execution_count": 3,
   "metadata": {},
   "outputs": [],
   "source": [
    "df.columns = df.columns.str.lstrip()\n",
    "df.columns = df.columns.str.rstrip()"
   ]
  },
  {
   "cell_type": "code",
   "execution_count": 4,
   "metadata": {},
   "outputs": [
    {
     "name": "stdout",
     "output_type": "stream",
     "text": [
      "<class 'pandas.core.frame.DataFrame'>\n",
      "RangeIndex: 25760 entries, 0 to 25759\n",
      "Data columns (total 24 columns):\n",
      "Case Number               8739 non-null object\n",
      "Date                      6451 non-null object\n",
      "Year                      6449 non-null float64\n",
      "Type                      6447 non-null object\n",
      "Country                   6401 non-null object\n",
      "Area                      5988 non-null object\n",
      "Location                  5904 non-null object\n",
      "Activity                  5901 non-null object\n",
      "Name                      6241 non-null object\n",
      "Sex                       5886 non-null object\n",
      "Age                       3586 non-null object\n",
      "Injury                    6423 non-null object\n",
      "Fatal (Y/N)               5905 non-null object\n",
      "Time                      3064 non-null object\n",
      "Species                   3545 non-null object\n",
      "Investigator or Source    6434 non-null object\n",
      "pdf                       6451 non-null object\n",
      "href formula              6449 non-null object\n",
      "href                      6451 non-null object\n",
      "Case Number.1             6451 non-null object\n",
      "Case Number.2             6451 non-null object\n",
      "original order            6451 non-null float64\n",
      "Unnamed: 22               1 non-null object\n",
      "Unnamed: 23               2 non-null object\n",
      "dtypes: float64(2), object(22)\n",
      "memory usage: 4.7+ MB\n"
     ]
    }
   ],
   "source": [
    "#to get a quick overview of the dataset\n",
    "df.info()"
   ]
  },
  {
   "cell_type": "code",
   "execution_count": 5,
   "metadata": {},
   "outputs": [
    {
     "data": {
      "text/html": [
       "<div>\n",
       "<style scoped>\n",
       "    .dataframe tbody tr th:only-of-type {\n",
       "        vertical-align: middle;\n",
       "    }\n",
       "\n",
       "    .dataframe tbody tr th {\n",
       "        vertical-align: top;\n",
       "    }\n",
       "\n",
       "    .dataframe thead th {\n",
       "        text-align: right;\n",
       "    }\n",
       "</style>\n",
       "<table border=\"1\" class=\"dataframe\">\n",
       "  <thead>\n",
       "    <tr style=\"text-align: right;\">\n",
       "      <th></th>\n",
       "      <th>Case Number</th>\n",
       "      <th>Date</th>\n",
       "      <th>Year</th>\n",
       "      <th>Type</th>\n",
       "      <th>Country</th>\n",
       "      <th>Area</th>\n",
       "      <th>Location</th>\n",
       "      <th>Activity</th>\n",
       "      <th>Name</th>\n",
       "      <th>Sex</th>\n",
       "      <th>...</th>\n",
       "      <th>Species</th>\n",
       "      <th>Investigator or Source</th>\n",
       "      <th>pdf</th>\n",
       "      <th>href formula</th>\n",
       "      <th>href</th>\n",
       "      <th>Case Number.1</th>\n",
       "      <th>Case Number.2</th>\n",
       "      <th>original order</th>\n",
       "      <th>Unnamed: 22</th>\n",
       "      <th>Unnamed: 23</th>\n",
       "    </tr>\n",
       "  </thead>\n",
       "  <tbody>\n",
       "    <tr>\n",
       "      <th>0</th>\n",
       "      <td>2019.08.27</td>\n",
       "      <td>27-Aug-2019</td>\n",
       "      <td>2019.0</td>\n",
       "      <td>Provoked</td>\n",
       "      <td>USA</td>\n",
       "      <td>Florida</td>\n",
       "      <td>New Smyrna Beach, Volusia County</td>\n",
       "      <td>Surfing</td>\n",
       "      <td>Donald Walsh</td>\n",
       "      <td>M</td>\n",
       "      <td>...</td>\n",
       "      <td>6.5' shark</td>\n",
       "      <td>K. McMurray, TrackingSharks.com</td>\n",
       "      <td>2019.08.27-Walsh.pdf</td>\n",
       "      <td>http://sharkattackfile.net/spreadsheets/pdf_di...</td>\n",
       "      <td>http://sharkattackfile.net/spreadsheets/pdf_di...</td>\n",
       "      <td>2019.08.27</td>\n",
       "      <td>2019.08.27</td>\n",
       "      <td>6452.0</td>\n",
       "      <td>NaN</td>\n",
       "      <td>NaN</td>\n",
       "    </tr>\n",
       "    <tr>\n",
       "      <th>1</th>\n",
       "      <td>2019.08.21</td>\n",
       "      <td>21-Aug-2019</td>\n",
       "      <td>2019.0</td>\n",
       "      <td>Unprovoked</td>\n",
       "      <td>USA</td>\n",
       "      <td>Florida</td>\n",
       "      <td>Fort Lauderdale, Broward County</td>\n",
       "      <td>Wading</td>\n",
       "      <td>Christian Mariani</td>\n",
       "      <td>M</td>\n",
       "      <td>...</td>\n",
       "      <td>NaN</td>\n",
       "      <td>K. McMurray, TrackingSharks.com</td>\n",
       "      <td>2019.08.21-Mariani.pdf</td>\n",
       "      <td>http://sharkattackfile.net/spreadsheets/pdf_di...</td>\n",
       "      <td>http://sharkattackfile.net/spreadsheets/pdf_di...</td>\n",
       "      <td>2019.08.21</td>\n",
       "      <td>2019.08.21</td>\n",
       "      <td>6451.0</td>\n",
       "      <td>NaN</td>\n",
       "      <td>NaN</td>\n",
       "    </tr>\n",
       "    <tr>\n",
       "      <th>2</th>\n",
       "      <td>2019.08.20</td>\n",
       "      <td>20-Aug-2019</td>\n",
       "      <td>2019.0</td>\n",
       "      <td>Unprovoked</td>\n",
       "      <td>USA</td>\n",
       "      <td>Hawaii</td>\n",
       "      <td>Napoopoo Park in Kealakekua Bay, The Big Island</td>\n",
       "      <td>Swimming</td>\n",
       "      <td>female</td>\n",
       "      <td>F</td>\n",
       "      <td>...</td>\n",
       "      <td>NaN</td>\n",
       "      <td>Hawaii News Now, 8/20/2019</td>\n",
       "      <td>2019.08.20-Hawaii.pdf</td>\n",
       "      <td>http://sharkattackfile.net/spreadsheets/pdf_di...</td>\n",
       "      <td>http://sharkattackfile.net/spreadsheets/pdf_di...</td>\n",
       "      <td>2019.08.20</td>\n",
       "      <td>2019.08.20</td>\n",
       "      <td>6450.0</td>\n",
       "      <td>NaN</td>\n",
       "      <td>NaN</td>\n",
       "    </tr>\n",
       "    <tr>\n",
       "      <th>3</th>\n",
       "      <td>2019.08.16</td>\n",
       "      <td>16-Aug-2019</td>\n",
       "      <td>2019.0</td>\n",
       "      <td>Unprovoked</td>\n",
       "      <td>USA</td>\n",
       "      <td>Florida</td>\n",
       "      <td>New Smyrna Beach, Volusia County</td>\n",
       "      <td>Wading</td>\n",
       "      <td>Maggie Crum</td>\n",
       "      <td>M</td>\n",
       "      <td>...</td>\n",
       "      <td>NaN</td>\n",
       "      <td>WESH, 8/16/2019</td>\n",
       "      <td>2019.08.16-Crum.pdf</td>\n",
       "      <td>http://sharkattackfile.net/spreadsheets/pdf_di...</td>\n",
       "      <td>http://sharkattackfile.net/spreadsheets/pdf_di...</td>\n",
       "      <td>2019.08.16</td>\n",
       "      <td>2019.08.16</td>\n",
       "      <td>6449.0</td>\n",
       "      <td>NaN</td>\n",
       "      <td>NaN</td>\n",
       "    </tr>\n",
       "    <tr>\n",
       "      <th>4</th>\n",
       "      <td>2019.08.11</td>\n",
       "      <td>11-Aug-2019</td>\n",
       "      <td>2019.0</td>\n",
       "      <td>Unprovoked</td>\n",
       "      <td>USA</td>\n",
       "      <td>Hawaii</td>\n",
       "      <td>Makaha Beach, Oahu</td>\n",
       "      <td>Surfing</td>\n",
       "      <td>Max Keliikipi</td>\n",
       "      <td>M</td>\n",
       "      <td>...</td>\n",
       "      <td>10' to 12' shark</td>\n",
       "      <td>M. Michaelson, GSAF</td>\n",
       "      <td>2019.08.11-Keliikipi.pdf</td>\n",
       "      <td>http://sharkattackfile.net/spreadsheets/pdf_di...</td>\n",
       "      <td>http://sharkattackfile.net/spreadsheets/pdf_di...</td>\n",
       "      <td>2019.08.11</td>\n",
       "      <td>2019.08.11</td>\n",
       "      <td>6448.0</td>\n",
       "      <td>NaN</td>\n",
       "      <td>NaN</td>\n",
       "    </tr>\n",
       "  </tbody>\n",
       "</table>\n",
       "<p>5 rows × 24 columns</p>\n",
       "</div>"
      ],
      "text/plain": [
       "  Case Number         Date    Year        Type Country     Area  \\\n",
       "0  2019.08.27  27-Aug-2019  2019.0    Provoked     USA  Florida   \n",
       "1  2019.08.21  21-Aug-2019  2019.0  Unprovoked     USA  Florida   \n",
       "2  2019.08.20  20-Aug-2019  2019.0  Unprovoked     USA   Hawaii   \n",
       "3  2019.08.16  16-Aug-2019  2019.0  Unprovoked     USA  Florida   \n",
       "4  2019.08.11  11-Aug-2019  2019.0  Unprovoked     USA   Hawaii   \n",
       "\n",
       "                                          Location  Activity  \\\n",
       "0                 New Smyrna Beach, Volusia County   Surfing   \n",
       "1                  Fort Lauderdale, Broward County    Wading   \n",
       "2  Napoopoo Park in Kealakekua Bay, The Big Island  Swimming   \n",
       "3                 New Smyrna Beach, Volusia County    Wading   \n",
       "4                               Makaha Beach, Oahu   Surfing   \n",
       "\n",
       "                 Name Sex  ...           Species  \\\n",
       "0        Donald Walsh   M  ...        6.5' shark   \n",
       "1  Christian Mariani    M  ...               NaN   \n",
       "2              female   F  ...               NaN   \n",
       "3         Maggie Crum   M  ...               NaN   \n",
       "4      Max Keliikipi    M  ...  10' to 12' shark   \n",
       "\n",
       "            Investigator or Source                       pdf  \\\n",
       "0  K. McMurray, TrackingSharks.com      2019.08.27-Walsh.pdf   \n",
       "1  K. McMurray, TrackingSharks.com    2019.08.21-Mariani.pdf   \n",
       "2       Hawaii News Now, 8/20/2019     2019.08.20-Hawaii.pdf   \n",
       "3                  WESH, 8/16/2019       2019.08.16-Crum.pdf   \n",
       "4              M. Michaelson, GSAF  2019.08.11-Keliikipi.pdf   \n",
       "\n",
       "                                        href formula  \\\n",
       "0  http://sharkattackfile.net/spreadsheets/pdf_di...   \n",
       "1  http://sharkattackfile.net/spreadsheets/pdf_di...   \n",
       "2  http://sharkattackfile.net/spreadsheets/pdf_di...   \n",
       "3  http://sharkattackfile.net/spreadsheets/pdf_di...   \n",
       "4  http://sharkattackfile.net/spreadsheets/pdf_di...   \n",
       "\n",
       "                                                href Case Number.1  \\\n",
       "0  http://sharkattackfile.net/spreadsheets/pdf_di...    2019.08.27   \n",
       "1  http://sharkattackfile.net/spreadsheets/pdf_di...    2019.08.21   \n",
       "2  http://sharkattackfile.net/spreadsheets/pdf_di...    2019.08.20   \n",
       "3  http://sharkattackfile.net/spreadsheets/pdf_di...    2019.08.16   \n",
       "4  http://sharkattackfile.net/spreadsheets/pdf_di...    2019.08.11   \n",
       "\n",
       "  Case Number.2 original order Unnamed: 22 Unnamed: 23  \n",
       "0    2019.08.27         6452.0         NaN         NaN  \n",
       "1    2019.08.21         6451.0         NaN         NaN  \n",
       "2    2019.08.20         6450.0         NaN         NaN  \n",
       "3    2019.08.16         6449.0         NaN         NaN  \n",
       "4    2019.08.11         6448.0         NaN         NaN  \n",
       "\n",
       "[5 rows x 24 columns]"
      ]
     },
     "execution_count": 5,
     "metadata": {},
     "output_type": "execute_result"
    }
   ],
   "source": [
    "df.head()"
   ]
  },
  {
   "cell_type": "code",
   "execution_count": 6,
   "metadata": {},
   "outputs": [],
   "source": [
    "#Select the data from the dataset where country is USA and all the data no less than 1995\n",
    "df=df[df.Year>1999]\n",
    "df=df[df.Country=='USA']"
   ]
  },
  {
   "cell_type": "code",
   "execution_count": 7,
   "metadata": {},
   "outputs": [
    {
     "name": "stdout",
     "output_type": "stream",
     "text": [
      "<class 'pandas.core.frame.DataFrame'>\n",
      "Int64Index: 1087 entries, 0 to 2218\n",
      "Data columns (total 24 columns):\n",
      "Case Number               1087 non-null object\n",
      "Date                      1087 non-null object\n",
      "Year                      1087 non-null float64\n",
      "Type                      1087 non-null object\n",
      "Country                   1087 non-null object\n",
      "Area                      1087 non-null object\n",
      "Location                  1080 non-null object\n",
      "Activity                  1036 non-null object\n",
      "Name                      1077 non-null object\n",
      "Sex                       1059 non-null object\n",
      "Age                       872 non-null object\n",
      "Injury                    1087 non-null object\n",
      "Fatal (Y/N)               1023 non-null object\n",
      "Time                      900 non-null object\n",
      "Species                   676 non-null object\n",
      "Investigator or Source    1085 non-null object\n",
      "pdf                       1087 non-null object\n",
      "href formula              1087 non-null object\n",
      "href                      1087 non-null object\n",
      "Case Number.1             1087 non-null object\n",
      "Case Number.2             1087 non-null object\n",
      "original order            1087 non-null float64\n",
      "Unnamed: 22               1 non-null object\n",
      "Unnamed: 23               0 non-null object\n",
      "dtypes: float64(2), object(22)\n",
      "memory usage: 212.3+ KB\n"
     ]
    }
   ],
   "source": [
    "df.info()"
   ]
  },
  {
   "cell_type": "code",
   "execution_count": 8,
   "metadata": {},
   "outputs": [],
   "source": [
    "df.Area=df.Area"
   ]
  },
  {
   "cell_type": "code",
   "execution_count": 9,
   "metadata": {},
   "outputs": [
    {
     "data": {
      "text/plain": [
       "0    FLORIDA\n",
       "1    FLORIDA\n",
       "2     HAWAII\n",
       "3    FLORIDA\n",
       "4     HAWAII\n",
       "Name: Area, dtype: object"
      ]
     },
     "execution_count": 9,
     "metadata": {},
     "output_type": "execute_result"
    }
   ],
   "source": [
    "#Capitalize all the entities present in Area Column to Upper case\n",
    "df.Area= [str(x).upper() for x in df.Area.tolist()]\n",
    "df.Area.head()"
   ]
  },
  {
   "cell_type": "code",
   "execution_count": 10,
   "metadata": {},
   "outputs": [
    {
     "data": {
      "text/plain": [
       "FLORIDA              572\n",
       "HAWAII               139\n",
       "CALIFORNIA           120\n",
       "SOUTH CAROLINA        80\n",
       "NORTH CAROLINA        68\n",
       "TEXAS                 34\n",
       "OREGON                15\n",
       "ALABAMA                9\n",
       "MASSACHUSETTS          8\n",
       "NEW JERSEY             6\n",
       "NEW YORK               5\n",
       "LOUISIANA              4\n",
       "GEORGIA                4\n",
       "MARYLAND               3\n",
       "PUERTO RICO            3\n",
       "VIRGINIA               3\n",
       "DELAWARE               2\n",
       "PALMYRA ATOLL          2\n",
       "RHODE ISLAND           1\n",
       "NEW MEXICO             1\n",
       "SOUTH CAROLINA         1\n",
       "ALASKA                 1\n",
       "MAINE                  1\n",
       "GUAM                   1\n",
       "JOHNSTON ATOLL         1\n",
       "KENTUCKY               1\n",
       "WASHINGTON             1\n",
       "US VIRGIN ISLANDS      1\n",
       "Name: Area, dtype: int64"
      ]
     },
     "execution_count": 10,
     "metadata": {},
     "output_type": "execute_result"
    }
   ],
   "source": [
    "df.Area.value_counts()"
   ]
  },
  {
   "cell_type": "markdown",
   "metadata": {},
   "source": [
    "### Binning of Areas into various regions depending on the coastal region they are located\n",
    "\n",
    "- Description of the Regions\n",
    " -  North Atlantic: the states whose land frontiers are the coastal Regions lying on the North Atlantic Coast\n",
    " -  Middle Atlantic: the states whose land frontiers are the coastal Regions lying on the Middle Atlantic Coast\n",
    " -  South Atlantic: the states whose land frontiers are the coastal Regions lying on the South Atlantic Coast\n",
    " -  North Pacific: the states whose land frontiers are the coastal Regions lying on the North Pacific Coast\n",
    " -  South Pacific: the states whose land frontiers are the coastal Regions lying on the South Pacific Coast\n",
    " -  Gulf:the states whose land frontiers are the coastal Regions lying on the Gulf coast "
   ]
  },
  {
   "cell_type": "code",
   "execution_count": 11,
   "metadata": {},
   "outputs": [],
   "source": [
    "North_Atlantic=  ['connecticut', 'maine', 'massachusetts', 'new hampshire', 'rhode island', 'vermont']\n",
    "Mid_Atlantic = ['new jersey', 'new york', 'pennsylvania']\n",
    "South_Atlantic =[ 'delaware', 'florida', 'georgia', 'maryland', 'north carolina', 'south carolina', 'virginia', 'district of columbia', 'west virginia']\n",
    "North_Pacific= ['alaska', 'oregon', 'washington']\n",
    "South_Pacific = ['california', 'hawaii','palmyra atoll', 'johnston atoll']\n",
    "Gulf=['texas', 'alabama', 'louisiana', 'new mexico', 'mississippi']\n",
    "#atlantic= ['florida', 'north carolina', 'rhode island','georgia', 'new jersey', 'massachusetts', 'maryland', 'new york', 'south carolina', 'washington', 'delaware', 'puerto rico', 'maine',\n",
    "#       'virginia', 'us virgin islands', 'guam', 'south carolina ', ]\n",
    "\n",
    "\n",
    "\n",
    "\n",
    "#pacific=['Hawaii','california', 'oregon', 'palmyra atoll', 'johnston atoll', 'alaska']\n",
    "\n",
    "#Capitalize all the strings present in the above list\n",
    "North_Atlantic = [x.upper() for x in North_Atlantic]\n",
    "\n",
    "Mid_Atlantic = [x.upper() for x in Mid_Atlantic]\n",
    "\n",
    "South_Atlantic = [x.upper() for x in South_Atlantic]\n",
    "North_Pacific = [x.upper() for x in North_Pacific]\n",
    "South_Pacific = [x.upper() for x in South_Pacific]\n",
    "Gulf = [x.upper() for x in Gulf]\n"
   ]
  },
  {
   "cell_type": "markdown",
   "metadata": {},
   "source": [
    "### This function takes Area values and groups it to the respective regions."
   ]
  },
  {
   "cell_type": "code",
   "execution_count": 12,
   "metadata": {},
   "outputs": [],
   "source": [
    "def get_region(x):\n",
    "    if x in North_Atlantic:\n",
    "        return \"North Atlantic Region\"\n",
    "    elif x in Mid_Atlantic:\n",
    "        return \"Mid Atlantic Region\"\n",
    "    elif x in South_Atlantic:\n",
    "        return \"South Atlantic Region\"\n",
    "    elif x in North_Pacific:\n",
    "        return \"North Pacific Region\"\n",
    "    elif x in South_Pacific:\n",
    "        return \"South Pacific Region\"\n",
    "    elif x in Gulf:\n",
    "        return \"Gulf Region\"\n",
    "\n",
    "df['Region'] = df['Area'].apply(lambda x: get_region(x))"
   ]
  },
  {
   "cell_type": "code",
   "execution_count": 13,
   "metadata": {},
   "outputs": [
    {
     "data": {
      "text/plain": [
       "0    South Atlantic Region\n",
       "1    South Atlantic Region\n",
       "2     South Pacific Region\n",
       "3    South Atlantic Region\n",
       "4     South Pacific Region\n",
       "Name: Region, dtype: object"
      ]
     },
     "execution_count": 13,
     "metadata": {},
     "output_type": "execute_result"
    }
   ],
   "source": [
    "#Binning of the data according to regions\n",
    "df['Region'].head()"
   ]
  },
  {
   "cell_type": "markdown",
   "metadata": {},
   "source": [
    "### Show the counts of observations in each categorical region bins using bars"
   ]
  },
  {
   "cell_type": "code",
   "execution_count": 14,
   "metadata": {},
   "outputs": [
    {
     "data": {
      "text/plain": [
       "(array([0, 1, 2, 3, 4, 5]), <a list of 6 Text xticklabel objects>)"
      ]
     },
     "execution_count": 14,
     "metadata": {},
     "output_type": "execute_result"
    },
    {
     "data": {
      "image/png": "[encoded data removed]",
      "text/plain": [
       "<Figure size 1152x576 with 1 Axes>"
      ]
     },
     "metadata": {
      "needs_background": "light"
     },
     "output_type": "display_data"
    }
   ],
   "source": [
    "fig, ax = plt.subplots(figsize=(16,8))\n",
    "sns.countplot(x='Region', data=df)\n",
    "plt.xticks(rotation =40)"
   ]
  },
  {
   "cell_type": "markdown",
   "metadata": {},
   "source": [
    "<b> As per the above plt, it can be primarily inferred that the Shark Attacks are predominant in the South Atlantic region.</b>"
   ]
  },
  {
   "cell_type": "markdown",
   "metadata": {},
   "source": [
    "#### Categorical Variables"
   ]
  },
  {
   "cell_type": "markdown",
   "metadata": {},
   "source": [
    "According to the below inference the categorical variables present in the dataset are as follows:\n",
    "- Type\n",
    "- Country\n",
    "- Area\n",
    "- Location\n",
    "- Activity\n"
   ]
  },
  {
   "cell_type": "code",
   "execution_count": 15,
   "metadata": {},
   "outputs": [],
   "source": [
    "df.Type=df.Type.astype('category')\n",
    "df.Country=df.Country.astype('category')\n",
    "df.Area=df.Area.astype('category')\n",
    "df.Location=df.Location.astype('category')\n",
    "df.Activity=df.Activity.astype('category')"
   ]
  },
  {
   "cell_type": "code",
   "execution_count": 16,
   "metadata": {},
   "outputs": [
    {
     "name": "stdout",
     "output_type": "stream",
     "text": [
      "<class 'pandas.core.frame.DataFrame'>\n",
      "Int64Index: 1087 entries, 0 to 2218\n",
      "Data columns (total 25 columns):\n",
      "Case Number               1087 non-null object\n",
      "Date                      1087 non-null object\n",
      "Year                      1087 non-null float64\n",
      "Type                      1087 non-null category\n",
      "Country                   1087 non-null category\n",
      "Area                      1087 non-null category\n",
      "Location                  1080 non-null category\n",
      "Activity                  1036 non-null category\n",
      "Name                      1077 non-null object\n",
      "Sex                       1059 non-null object\n",
      "Age                       872 non-null object\n",
      "Injury                    1087 non-null object\n",
      "Fatal (Y/N)               1023 non-null object\n",
      "Time                      900 non-null object\n",
      "Species                   676 non-null object\n",
      "Investigator or Source    1085 non-null object\n",
      "pdf                       1087 non-null object\n",
      "href formula              1087 non-null object\n",
      "href                      1087 non-null object\n",
      "Case Number.1             1087 non-null object\n",
      "Case Number.2             1087 non-null object\n",
      "original order            1087 non-null float64\n",
      "Unnamed: 22               1 non-null object\n",
      "Unnamed: 23               0 non-null object\n",
      "Region                    1080 non-null object\n",
      "dtypes: category(5), float64(2), object(18)\n",
      "memory usage: 259.1+ KB\n"
     ]
    }
   ],
   "source": [
    "df.info()"
   ]
  },
  {
   "cell_type": "code",
   "execution_count": 17,
   "metadata": {},
   "outputs": [
    {
     "data": {
      "text/html": [
       "<div>\n",
       "<style scoped>\n",
       "    .dataframe tbody tr th:only-of-type {\n",
       "        vertical-align: middle;\n",
       "    }\n",
       "\n",
       "    .dataframe tbody tr th {\n",
       "        vertical-align: top;\n",
       "    }\n",
       "\n",
       "    .dataframe thead th {\n",
       "        text-align: right;\n",
       "    }\n",
       "</style>\n",
       "<table border=\"1\" class=\"dataframe\">\n",
       "  <thead>\n",
       "    <tr style=\"text-align: right;\">\n",
       "      <th></th>\n",
       "      <th>Case Number</th>\n",
       "      <th>Date</th>\n",
       "      <th>Year</th>\n",
       "      <th>Type</th>\n",
       "      <th>Country</th>\n",
       "      <th>Area</th>\n",
       "      <th>Location</th>\n",
       "      <th>Activity</th>\n",
       "      <th>Name</th>\n",
       "      <th>Sex</th>\n",
       "      <th>...</th>\n",
       "      <th>Investigator or Source</th>\n",
       "      <th>pdf</th>\n",
       "      <th>href formula</th>\n",
       "      <th>href</th>\n",
       "      <th>Case Number.1</th>\n",
       "      <th>Case Number.2</th>\n",
       "      <th>original order</th>\n",
       "      <th>Unnamed: 22</th>\n",
       "      <th>Unnamed: 23</th>\n",
       "      <th>Region</th>\n",
       "    </tr>\n",
       "  </thead>\n",
       "  <tbody>\n",
       "    <tr>\n",
       "      <th>0</th>\n",
       "      <td>2019.08.27</td>\n",
       "      <td>27-Aug-2019</td>\n",
       "      <td>2019.0</td>\n",
       "      <td>Provoked</td>\n",
       "      <td>USA</td>\n",
       "      <td>FLORIDA</td>\n",
       "      <td>New Smyrna Beach, Volusia County</td>\n",
       "      <td>Surfing</td>\n",
       "      <td>Donald Walsh</td>\n",
       "      <td>M</td>\n",
       "      <td>...</td>\n",
       "      <td>K. McMurray, TrackingSharks.com</td>\n",
       "      <td>2019.08.27-Walsh.pdf</td>\n",
       "      <td>http://sharkattackfile.net/spreadsheets/pdf_di...</td>\n",
       "      <td>http://sharkattackfile.net/spreadsheets/pdf_di...</td>\n",
       "      <td>2019.08.27</td>\n",
       "      <td>2019.08.27</td>\n",
       "      <td>6452.0</td>\n",
       "      <td>NaN</td>\n",
       "      <td>NaN</td>\n",
       "      <td>South Atlantic Region</td>\n",
       "    </tr>\n",
       "    <tr>\n",
       "      <th>1</th>\n",
       "      <td>2019.08.21</td>\n",
       "      <td>21-Aug-2019</td>\n",
       "      <td>2019.0</td>\n",
       "      <td>Unprovoked</td>\n",
       "      <td>USA</td>\n",
       "      <td>FLORIDA</td>\n",
       "      <td>Fort Lauderdale, Broward County</td>\n",
       "      <td>Wading</td>\n",
       "      <td>Christian Mariani</td>\n",
       "      <td>M</td>\n",
       "      <td>...</td>\n",
       "      <td>K. McMurray, TrackingSharks.com</td>\n",
       "      <td>2019.08.21-Mariani.pdf</td>\n",
       "      <td>http://sharkattackfile.net/spreadsheets/pdf_di...</td>\n",
       "      <td>http://sharkattackfile.net/spreadsheets/pdf_di...</td>\n",
       "      <td>2019.08.21</td>\n",
       "      <td>2019.08.21</td>\n",
       "      <td>6451.0</td>\n",
       "      <td>NaN</td>\n",
       "      <td>NaN</td>\n",
       "      <td>South Atlantic Region</td>\n",
       "    </tr>\n",
       "    <tr>\n",
       "      <th>2</th>\n",
       "      <td>2019.08.20</td>\n",
       "      <td>20-Aug-2019</td>\n",
       "      <td>2019.0</td>\n",
       "      <td>Unprovoked</td>\n",
       "      <td>USA</td>\n",
       "      <td>HAWAII</td>\n",
       "      <td>Napoopoo Park in Kealakekua Bay, The Big Island</td>\n",
       "      <td>Swimming</td>\n",
       "      <td>female</td>\n",
       "      <td>F</td>\n",
       "      <td>...</td>\n",
       "      <td>Hawaii News Now, 8/20/2019</td>\n",
       "      <td>2019.08.20-Hawaii.pdf</td>\n",
       "      <td>http://sharkattackfile.net/spreadsheets/pdf_di...</td>\n",
       "      <td>http://sharkattackfile.net/spreadsheets/pdf_di...</td>\n",
       "      <td>2019.08.20</td>\n",
       "      <td>2019.08.20</td>\n",
       "      <td>6450.0</td>\n",
       "      <td>NaN</td>\n",
       "      <td>NaN</td>\n",
       "      <td>South Pacific Region</td>\n",
       "    </tr>\n",
       "    <tr>\n",
       "      <th>3</th>\n",
       "      <td>2019.08.16</td>\n",
       "      <td>16-Aug-2019</td>\n",
       "      <td>2019.0</td>\n",
       "      <td>Unprovoked</td>\n",
       "      <td>USA</td>\n",
       "      <td>FLORIDA</td>\n",
       "      <td>New Smyrna Beach, Volusia County</td>\n",
       "      <td>Wading</td>\n",
       "      <td>Maggie Crum</td>\n",
       "      <td>M</td>\n",
       "      <td>...</td>\n",
       "      <td>WESH, 8/16/2019</td>\n",
       "      <td>2019.08.16-Crum.pdf</td>\n",
       "      <td>http://sharkattackfile.net/spreadsheets/pdf_di...</td>\n",
       "      <td>http://sharkattackfile.net/spreadsheets/pdf_di...</td>\n",
       "      <td>2019.08.16</td>\n",
       "      <td>2019.08.16</td>\n",
       "      <td>6449.0</td>\n",
       "      <td>NaN</td>\n",
       "      <td>NaN</td>\n",
       "      <td>South Atlantic Region</td>\n",
       "    </tr>\n",
       "    <tr>\n",
       "      <th>4</th>\n",
       "      <td>2019.08.11</td>\n",
       "      <td>11-Aug-2019</td>\n",
       "      <td>2019.0</td>\n",
       "      <td>Unprovoked</td>\n",
       "      <td>USA</td>\n",
       "      <td>HAWAII</td>\n",
       "      <td>Makaha Beach, Oahu</td>\n",
       "      <td>Surfing</td>\n",
       "      <td>Max Keliikipi</td>\n",
       "      <td>M</td>\n",
       "      <td>...</td>\n",
       "      <td>M. Michaelson, GSAF</td>\n",
       "      <td>2019.08.11-Keliikipi.pdf</td>\n",
       "      <td>http://sharkattackfile.net/spreadsheets/pdf_di...</td>\n",
       "      <td>http://sharkattackfile.net/spreadsheets/pdf_di...</td>\n",
       "      <td>2019.08.11</td>\n",
       "      <td>2019.08.11</td>\n",
       "      <td>6448.0</td>\n",
       "      <td>NaN</td>\n",
       "      <td>NaN</td>\n",
       "      <td>South Pacific Region</td>\n",
       "    </tr>\n",
       "  </tbody>\n",
       "</table>\n",
       "<p>5 rows × 25 columns</p>\n",
       "</div>"
      ],
      "text/plain": [
       "  Case Number         Date    Year        Type Country     Area  \\\n",
       "0  2019.08.27  27-Aug-2019  2019.0    Provoked     USA  FLORIDA   \n",
       "1  2019.08.21  21-Aug-2019  2019.0  Unprovoked     USA  FLORIDA   \n",
       "2  2019.08.20  20-Aug-2019  2019.0  Unprovoked     USA   HAWAII   \n",
       "3  2019.08.16  16-Aug-2019  2019.0  Unprovoked     USA  FLORIDA   \n",
       "4  2019.08.11  11-Aug-2019  2019.0  Unprovoked     USA   HAWAII   \n",
       "\n",
       "                                          Location  Activity  \\\n",
       "0                 New Smyrna Beach, Volusia County   Surfing   \n",
       "1                  Fort Lauderdale, Broward County    Wading   \n",
       "2  Napoopoo Park in Kealakekua Bay, The Big Island  Swimming   \n",
       "3                 New Smyrna Beach, Volusia County    Wading   \n",
       "4                               Makaha Beach, Oahu   Surfing   \n",
       "\n",
       "                 Name Sex  ...           Investigator or Source  \\\n",
       "0        Donald Walsh   M  ...  K. McMurray, TrackingSharks.com   \n",
       "1  Christian Mariani    M  ...  K. McMurray, TrackingSharks.com   \n",
       "2              female   F  ...       Hawaii News Now, 8/20/2019   \n",
       "3         Maggie Crum   M  ...                  WESH, 8/16/2019   \n",
       "4      Max Keliikipi    M  ...              M. Michaelson, GSAF   \n",
       "\n",
       "                        pdf  \\\n",
       "0      2019.08.27-Walsh.pdf   \n",
       "1    2019.08.21-Mariani.pdf   \n",
       "2     2019.08.20-Hawaii.pdf   \n",
       "3       2019.08.16-Crum.pdf   \n",
       "4  2019.08.11-Keliikipi.pdf   \n",
       "\n",
       "                                        href formula  \\\n",
       "0  http://sharkattackfile.net/spreadsheets/pdf_di...   \n",
       "1  http://sharkattackfile.net/spreadsheets/pdf_di...   \n",
       "2  http://sharkattackfile.net/spreadsheets/pdf_di...   \n",
       "3  http://sharkattackfile.net/spreadsheets/pdf_di...   \n",
       "4  http://sharkattackfile.net/spreadsheets/pdf_di...   \n",
       "\n",
       "                                                href Case Number.1  \\\n",
       "0  http://sharkattackfile.net/spreadsheets/pdf_di...    2019.08.27   \n",
       "1  http://sharkattackfile.net/spreadsheets/pdf_di...    2019.08.21   \n",
       "2  http://sharkattackfile.net/spreadsheets/pdf_di...    2019.08.20   \n",
       "3  http://sharkattackfile.net/spreadsheets/pdf_di...    2019.08.16   \n",
       "4  http://sharkattackfile.net/spreadsheets/pdf_di...    2019.08.11   \n",
       "\n",
       "  Case Number.2 original order Unnamed: 22 Unnamed: 23                 Region  \n",
       "0    2019.08.27         6452.0         NaN         NaN  South Atlantic Region  \n",
       "1    2019.08.21         6451.0         NaN         NaN  South Atlantic Region  \n",
       "2    2019.08.20         6450.0         NaN         NaN   South Pacific Region  \n",
       "3    2019.08.16         6449.0         NaN         NaN  South Atlantic Region  \n",
       "4    2019.08.11         6448.0         NaN         NaN   South Pacific Region  \n",
       "\n",
       "[5 rows x 25 columns]"
      ]
     },
     "execution_count": 17,
     "metadata": {},
     "output_type": "execute_result"
    }
   ],
   "source": [
    "df.head()"
   ]
  },
  {
   "cell_type": "code",
   "execution_count": 18,
   "metadata": {},
   "outputs": [
    {
     "data": {
      "text/plain": [
       "Case Number                  0\n",
       "Date                         0\n",
       "Year                         0\n",
       "Type                         0\n",
       "Country                      0\n",
       "Area                         0\n",
       "Location                     7\n",
       "Activity                    51\n",
       "Name                        10\n",
       "Sex                         28\n",
       "Age                        215\n",
       "Injury                       0\n",
       "Fatal (Y/N)                 64\n",
       "Time                       187\n",
       "Species                    411\n",
       "Investigator or Source       2\n",
       "pdf                          0\n",
       "href formula                 0\n",
       "href                         0\n",
       "Case Number.1                0\n",
       "Case Number.2                0\n",
       "original order               0\n",
       "Unnamed: 22               1086\n",
       "Unnamed: 23               1087\n",
       "Region                       7\n",
       "dtype: int64"
      ]
     },
     "execution_count": 18,
     "metadata": {},
     "output_type": "execute_result"
    }
   ],
   "source": [
    "#count the number of Null Vaslues\n",
    "df.isna().sum()"
   ]
  },
  {
   "cell_type": "code",
   "execution_count": 19,
   "metadata": {},
   "outputs": [
    {
     "name": "stdout",
     "output_type": "stream",
     "text": [
      "<class 'pandas.core.frame.DataFrame'>\n",
      "Int64Index: 1087 entries, 0 to 2218\n",
      "Data columns (total 25 columns):\n",
      "Case Number               1087 non-null object\n",
      "Date                      1087 non-null object\n",
      "Year                      1087 non-null float64\n",
      "Type                      1087 non-null category\n",
      "Country                   1087 non-null category\n",
      "Area                      1087 non-null category\n",
      "Location                  1080 non-null category\n",
      "Activity                  1036 non-null category\n",
      "Name                      1077 non-null object\n",
      "Sex                       1059 non-null object\n",
      "Age                       872 non-null object\n",
      "Injury                    1087 non-null object\n",
      "Fatal (Y/N)               1023 non-null object\n",
      "Time                      900 non-null object\n",
      "Species                   676 non-null object\n",
      "Investigator or Source    1085 non-null object\n",
      "pdf                       1087 non-null object\n",
      "href formula              1087 non-null object\n",
      "href                      1087 non-null object\n",
      "Case Number.1             1087 non-null object\n",
      "Case Number.2             1087 non-null object\n",
      "original order            1087 non-null float64\n",
      "Unnamed: 22               1 non-null object\n",
      "Unnamed: 23               0 non-null object\n",
      "Region                    1080 non-null object\n",
      "dtypes: category(5), float64(2), object(18)\n",
      "memory usage: 259.1+ KB\n"
     ]
    }
   ],
   "source": [
    "df.info()"
   ]
  },
  {
   "cell_type": "code",
   "execution_count": 20,
   "metadata": {},
   "outputs": [
    {
     "data": {
      "text/plain": [
       "0    11h55\n",
       "1    09h00\n",
       "2    08h00\n",
       "3    11h00\n",
       "4    19h30\n",
       "Name: Hour_Clean, dtype: object"
      ]
     },
     "execution_count": 20,
     "metadata": {},
     "output_type": "execute_result"
    }
   ],
   "source": [
    "#Replace occurrences of pattern/regex in the Series/Index with some other string\n",
    "df['Hour_Clean']=df['Time'].str.replace(\"Morning\",\"06h00\")\n",
    "df['Hour_Clean'] = np.where(df['Hour_Clean'].str.contains((\"noon\")), \"14h00\", df['Hour_Clean'])\n",
    "df['Hour_Clean'] = np.where(df['Hour_Clean'].str.contains((\"night\")), \"20h00\", df['Hour_Clean'])\n",
    "df['Hour_Clean'] = np.where(df['Hour_Clean'].str.contains((\"morning\")), \"08h00\", df['Hour_Clean'])\n",
    "df['Hour_Clean'] = np.where(df['Hour_Clean'].str.contains((\"vening\")), \"20h00\", df['Hour_Clean'])\n",
    "df['Hour_Clean'] = np.where(df['Hour_Clean'].str.contains((\"sun\")), \"18h00\", df['Hour_Clean'])\n",
    "df['Hour_Clean']=df['Hour_Clean'].str.replace(\"Night\",\"20h00\")\n",
    "df['Hour_Clean']=df['Hour_Clean'].str.replace(\"Sunset\",\"18h00\")\n",
    "df['Hour_Clean']=df['Hour_Clean'].str.replace(\"Dusk\",\"18h00\")\n",
    "df['Hour_Clean'].head()"
   ]
  },
  {
   "cell_type": "code",
   "execution_count": 21,
   "metadata": {},
   "outputs": [
    {
     "data": {
      "text/plain": [
       "0"
      ]
     },
     "execution_count": 21,
     "metadata": {},
     "output_type": "execute_result"
    }
   ],
   "source": [
    "df['Hour_Clean'].isna().sum()"
   ]
  },
  {
   "cell_type": "code",
   "execution_count": 22,
   "metadata": {},
   "outputs": [],
   "source": [
    "#Use regular expression to extract the Time only in hours in 24 Hr Time format and negating all other time data\n",
    "df['Hour_Clean'] = df['Hour_Clean'].str.extract(\"([0-9]+[h]+[0-9]+)\", expand=False).str.strip()"
   ]
  },
  {
   "cell_type": "code",
   "execution_count": 23,
   "metadata": {},
   "outputs": [
    {
     "data": {
      "text/plain": [
       "0    11h55\n",
       "1    09h00\n",
       "2    08h00\n",
       "3    11h00\n",
       "4    19h30\n",
       "Name: Hour_Clean, dtype: object"
      ]
     },
     "execution_count": 23,
     "metadata": {},
     "output_type": "execute_result"
    }
   ],
   "source": [
    "df['Hour_Clean'].head()"
   ]
  },
  {
   "cell_type": "code",
   "execution_count": 24,
   "metadata": {},
   "outputs": [
    {
     "data": {
      "text/plain": [
       "7"
      ]
     },
     "execution_count": 24,
     "metadata": {},
     "output_type": "execute_result"
    }
   ],
   "source": [
    "df['Hour_Clean'].isna().sum()"
   ]
  },
  {
   "cell_type": "code",
   "execution_count": 25,
   "metadata": {},
   "outputs": [
    {
     "data": {
      "text/plain": [
       "0    11.55\n",
       "1    09.00\n",
       "2    08.00\n",
       "3    11.00\n",
       "4    19.30\n",
       "Name: Hour_Clean, dtype: object"
      ]
     },
     "execution_count": 25,
     "metadata": {},
     "output_type": "execute_result"
    }
   ],
   "source": [
    "#Replace occurrences of pattern/regex in the Series/Index with some other string\n",
    "df['Hour_Clean']=df['Hour_Clean'].str.replace(\"h\",\".\")\n",
    "df['Hour_Clean'].head()"
   ]
  },
  {
   "cell_type": "code",
   "execution_count": 26,
   "metadata": {},
   "outputs": [
    {
     "name": "stdout",
     "output_type": "stream",
     "text": [
      "As there are only 10 Nan Values, they can be replaced by the mode of the data, which is ['14.00']\n"
     ]
    }
   ],
   "source": [
    "#Calculate the mode of the Time column in the dataset and replace the missing the values with the mode\n",
    "print(\"As there are only 10 Nan Values, they can be replaced by the mode of the data, which is\", df.Hour_Clean.mode().values)"
   ]
  },
  {
   "cell_type": "code",
   "execution_count": 27,
   "metadata": {},
   "outputs": [],
   "source": [
    "#Convert argument to a numeric type.The default return dtype is float64 or int64 depending on the data supplied.\n",
    "df['Hour_Clean'] = pd.to_numeric(df['Hour_Clean'], errors='coerce').fillna(11).astype(np.int64)"
   ]
  },
  {
   "cell_type": "code",
   "execution_count": 28,
   "metadata": {},
   "outputs": [
    {
     "data": {
      "text/plain": [
       "0    11\n",
       "1     9\n",
       "2     8\n",
       "3    11\n",
       "4    19\n",
       "5    15\n",
       "6    16\n",
       "7    15\n",
       "8    14\n",
       "9    14\n",
       "Name: Hour_Clean, dtype: int64"
      ]
     },
     "execution_count": 28,
     "metadata": {},
     "output_type": "execute_result"
    }
   ],
   "source": [
    "df['Hour_Clean'].head(10)"
   ]
  },
  {
   "cell_type": "code",
   "execution_count": 29,
   "metadata": {},
   "outputs": [
    {
     "data": {
      "text/plain": [
       "count    1087.000000\n",
       "mean       13.307268\n",
       "std         3.197227\n",
       "min         0.000000\n",
       "25%        11.000000\n",
       "50%        14.000000\n",
       "75%        15.000000\n",
       "max        23.000000\n",
       "Name: Hour_Clean, dtype: float64"
      ]
     },
     "execution_count": 29,
     "metadata": {},
     "output_type": "execute_result"
    }
   ],
   "source": [
    "df['Hour_Clean'].describe()"
   ]
  },
  {
   "cell_type": "markdown",
   "metadata": {},
   "source": [
    "## Binning of Time into various bins depending on the time ranges in a day\n",
    "\n",
    "Description of the Bin labels as per 24 HH clock format\n",
    "\n",
    "- 00 - 05 : mid night\n",
    "- 05 - 11 : morning\n",
    "- 12 - 15 : afternoon\n",
    "- 15 - 19 : evening\n",
    "- 19 - 25 : night\n",
    "\n"
   ]
  },
  {
   "cell_type": "code",
   "execution_count": 30,
   "metadata": {},
   "outputs": [],
   "source": [
    "bins = [-1, 5, 11, 15, 19, 25]\n",
    "df['binned'] = pd.cut(df['Hour_Clean'], bins=bins, labels = ['Mid night', 'Morning' ,'Afternoon' ,'Evening' ,'Night'])"
   ]
  },
  {
   "cell_type": "code",
   "execution_count": 31,
   "metadata": {},
   "outputs": [
    {
     "data": {
      "text/html": [
       "<div>\n",
       "<style scoped>\n",
       "    .dataframe tbody tr th:only-of-type {\n",
       "        vertical-align: middle;\n",
       "    }\n",
       "\n",
       "    .dataframe tbody tr th {\n",
       "        vertical-align: top;\n",
       "    }\n",
       "\n",
       "    .dataframe thead th {\n",
       "        text-align: right;\n",
       "    }\n",
       "</style>\n",
       "<table border=\"1\" class=\"dataframe\">\n",
       "  <thead>\n",
       "    <tr style=\"text-align: right;\">\n",
       "      <th></th>\n",
       "      <th>Case Number</th>\n",
       "      <th>Date</th>\n",
       "      <th>Year</th>\n",
       "      <th>Type</th>\n",
       "      <th>Country</th>\n",
       "      <th>Area</th>\n",
       "      <th>Location</th>\n",
       "      <th>Activity</th>\n",
       "      <th>Name</th>\n",
       "      <th>Sex</th>\n",
       "      <th>...</th>\n",
       "      <th>href formula</th>\n",
       "      <th>href</th>\n",
       "      <th>Case Number.1</th>\n",
       "      <th>Case Number.2</th>\n",
       "      <th>original order</th>\n",
       "      <th>Unnamed: 22</th>\n",
       "      <th>Unnamed: 23</th>\n",
       "      <th>Region</th>\n",
       "      <th>Hour_Clean</th>\n",
       "      <th>binned</th>\n",
       "    </tr>\n",
       "  </thead>\n",
       "  <tbody>\n",
       "    <tr>\n",
       "      <th>0</th>\n",
       "      <td>2019.08.27</td>\n",
       "      <td>27-Aug-2019</td>\n",
       "      <td>2019.0</td>\n",
       "      <td>Provoked</td>\n",
       "      <td>USA</td>\n",
       "      <td>FLORIDA</td>\n",
       "      <td>New Smyrna Beach, Volusia County</td>\n",
       "      <td>Surfing</td>\n",
       "      <td>Donald Walsh</td>\n",
       "      <td>M</td>\n",
       "      <td>...</td>\n",
       "      <td>http://sharkattackfile.net/spreadsheets/pdf_di...</td>\n",
       "      <td>http://sharkattackfile.net/spreadsheets/pdf_di...</td>\n",
       "      <td>2019.08.27</td>\n",
       "      <td>2019.08.27</td>\n",
       "      <td>6452.0</td>\n",
       "      <td>NaN</td>\n",
       "      <td>NaN</td>\n",
       "      <td>South Atlantic Region</td>\n",
       "      <td>11</td>\n",
       "      <td>Morning</td>\n",
       "    </tr>\n",
       "    <tr>\n",
       "      <th>1</th>\n",
       "      <td>2019.08.21</td>\n",
       "      <td>21-Aug-2019</td>\n",
       "      <td>2019.0</td>\n",
       "      <td>Unprovoked</td>\n",
       "      <td>USA</td>\n",
       "      <td>FLORIDA</td>\n",
       "      <td>Fort Lauderdale, Broward County</td>\n",
       "      <td>Wading</td>\n",
       "      <td>Christian Mariani</td>\n",
       "      <td>M</td>\n",
       "      <td>...</td>\n",
       "      <td>http://sharkattackfile.net/spreadsheets/pdf_di...</td>\n",
       "      <td>http://sharkattackfile.net/spreadsheets/pdf_di...</td>\n",
       "      <td>2019.08.21</td>\n",
       "      <td>2019.08.21</td>\n",
       "      <td>6451.0</td>\n",
       "      <td>NaN</td>\n",
       "      <td>NaN</td>\n",
       "      <td>South Atlantic Region</td>\n",
       "      <td>9</td>\n",
       "      <td>Morning</td>\n",
       "    </tr>\n",
       "    <tr>\n",
       "      <th>2</th>\n",
       "      <td>2019.08.20</td>\n",
       "      <td>20-Aug-2019</td>\n",
       "      <td>2019.0</td>\n",
       "      <td>Unprovoked</td>\n",
       "      <td>USA</td>\n",
       "      <td>HAWAII</td>\n",
       "      <td>Napoopoo Park in Kealakekua Bay, The Big Island</td>\n",
       "      <td>Swimming</td>\n",
       "      <td>female</td>\n",
       "      <td>F</td>\n",
       "      <td>...</td>\n",
       "      <td>http://sharkattackfile.net/spreadsheets/pdf_di...</td>\n",
       "      <td>http://sharkattackfile.net/spreadsheets/pdf_di...</td>\n",
       "      <td>2019.08.20</td>\n",
       "      <td>2019.08.20</td>\n",
       "      <td>6450.0</td>\n",
       "      <td>NaN</td>\n",
       "      <td>NaN</td>\n",
       "      <td>South Pacific Region</td>\n",
       "      <td>8</td>\n",
       "      <td>Morning</td>\n",
       "    </tr>\n",
       "    <tr>\n",
       "      <th>3</th>\n",
       "      <td>2019.08.16</td>\n",
       "      <td>16-Aug-2019</td>\n",
       "      <td>2019.0</td>\n",
       "      <td>Unprovoked</td>\n",
       "      <td>USA</td>\n",
       "      <td>FLORIDA</td>\n",
       "      <td>New Smyrna Beach, Volusia County</td>\n",
       "      <td>Wading</td>\n",
       "      <td>Maggie Crum</td>\n",
       "      <td>M</td>\n",
       "      <td>...</td>\n",
       "      <td>http://sharkattackfile.net/spreadsheets/pdf_di...</td>\n",
       "      <td>http://sharkattackfile.net/spreadsheets/pdf_di...</td>\n",
       "      <td>2019.08.16</td>\n",
       "      <td>2019.08.16</td>\n",
       "      <td>6449.0</td>\n",
       "      <td>NaN</td>\n",
       "      <td>NaN</td>\n",
       "      <td>South Atlantic Region</td>\n",
       "      <td>11</td>\n",
       "      <td>Morning</td>\n",
       "    </tr>\n",
       "    <tr>\n",
       "      <th>4</th>\n",
       "      <td>2019.08.11</td>\n",
       "      <td>11-Aug-2019</td>\n",
       "      <td>2019.0</td>\n",
       "      <td>Unprovoked</td>\n",
       "      <td>USA</td>\n",
       "      <td>HAWAII</td>\n",
       "      <td>Makaha Beach, Oahu</td>\n",
       "      <td>Surfing</td>\n",
       "      <td>Max Keliikipi</td>\n",
       "      <td>M</td>\n",
       "      <td>...</td>\n",
       "      <td>http://sharkattackfile.net/spreadsheets/pdf_di...</td>\n",
       "      <td>http://sharkattackfile.net/spreadsheets/pdf_di...</td>\n",
       "      <td>2019.08.11</td>\n",
       "      <td>2019.08.11</td>\n",
       "      <td>6448.0</td>\n",
       "      <td>NaN</td>\n",
       "      <td>NaN</td>\n",
       "      <td>South Pacific Region</td>\n",
       "      <td>19</td>\n",
       "      <td>Evening</td>\n",
       "    </tr>\n",
       "  </tbody>\n",
       "</table>\n",
       "<p>5 rows × 27 columns</p>\n",
       "</div>"
      ],
      "text/plain": [
       "  Case Number         Date    Year        Type Country     Area  \\\n",
       "0  2019.08.27  27-Aug-2019  2019.0    Provoked     USA  FLORIDA   \n",
       "1  2019.08.21  21-Aug-2019  2019.0  Unprovoked     USA  FLORIDA   \n",
       "2  2019.08.20  20-Aug-2019  2019.0  Unprovoked     USA   HAWAII   \n",
       "3  2019.08.16  16-Aug-2019  2019.0  Unprovoked     USA  FLORIDA   \n",
       "4  2019.08.11  11-Aug-2019  2019.0  Unprovoked     USA   HAWAII   \n",
       "\n",
       "                                          Location  Activity  \\\n",
       "0                 New Smyrna Beach, Volusia County   Surfing   \n",
       "1                  Fort Lauderdale, Broward County    Wading   \n",
       "2  Napoopoo Park in Kealakekua Bay, The Big Island  Swimming   \n",
       "3                 New Smyrna Beach, Volusia County    Wading   \n",
       "4                               Makaha Beach, Oahu   Surfing   \n",
       "\n",
       "                 Name Sex  ...  \\\n",
       "0        Donald Walsh   M  ...   \n",
       "1  Christian Mariani    M  ...   \n",
       "2              female   F  ...   \n",
       "3         Maggie Crum   M  ...   \n",
       "4      Max Keliikipi    M  ...   \n",
       "\n",
       "                                        href formula  \\\n",
       "0  http://sharkattackfile.net/spreadsheets/pdf_di...   \n",
       "1  http://sharkattackfile.net/spreadsheets/pdf_di...   \n",
       "2  http://sharkattackfile.net/spreadsheets/pdf_di...   \n",
       "3  http://sharkattackfile.net/spreadsheets/pdf_di...   \n",
       "4  http://sharkattackfile.net/spreadsheets/pdf_di...   \n",
       "\n",
       "                                                href Case Number.1  \\\n",
       "0  http://sharkattackfile.net/spreadsheets/pdf_di...    2019.08.27   \n",
       "1  http://sharkattackfile.net/spreadsheets/pdf_di...    2019.08.21   \n",
       "2  http://sharkattackfile.net/spreadsheets/pdf_di...    2019.08.20   \n",
       "3  http://sharkattackfile.net/spreadsheets/pdf_di...    2019.08.16   \n",
       "4  http://sharkattackfile.net/spreadsheets/pdf_di...    2019.08.11   \n",
       "\n",
       "  Case Number.2 original order Unnamed: 22 Unnamed: 23                 Region  \\\n",
       "0    2019.08.27         6452.0         NaN         NaN  South Atlantic Region   \n",
       "1    2019.08.21         6451.0         NaN         NaN  South Atlantic Region   \n",
       "2    2019.08.20         6450.0         NaN         NaN   South Pacific Region   \n",
       "3    2019.08.16         6449.0         NaN         NaN  South Atlantic Region   \n",
       "4    2019.08.11         6448.0         NaN         NaN   South Pacific Region   \n",
       "\n",
       "  Hour_Clean   binned  \n",
       "0         11  Morning  \n",
       "1          9  Morning  \n",
       "2          8  Morning  \n",
       "3         11  Morning  \n",
       "4         19  Evening  \n",
       "\n",
       "[5 rows x 27 columns]"
      ]
     },
     "execution_count": 31,
     "metadata": {},
     "output_type": "execute_result"
    }
   ],
   "source": [
    "df.head()"
   ]
  },
  {
   "cell_type": "markdown",
   "metadata": {},
   "source": [
    "### Show the counts of observations in two categorical varibles: region bins based on the binning time using bars"
   ]
  },
  {
   "cell_type": "code",
   "execution_count": 32,
   "metadata": {},
   "outputs": [
    {
     "data": {
      "text/plain": [
       "(array([0, 1, 2, 3, 4, 5]), <a list of 6 Text xticklabel objects>)"
      ]
     },
     "execution_count": 32,
     "metadata": {},
     "output_type": "execute_result"
    },
    {
     "data": {
      "image/png": "[encoded data removed]",
      "text/plain": [
       "<Figure size 1152x576 with 1 Axes>"
      ]
     },
     "metadata": {
      "needs_background": "light"
     },
     "output_type": "display_data"
    }
   ],
   "source": [
    "fig, ax = plt.subplots(figsize=(16,8))\n",
    "sns.countplot(x='Region', hue='binned', data=df)\n",
    "plt.xticks(rotation =40)"
   ]
  },
  {
   "cell_type": "markdown",
   "metadata": {},
   "source": [
    "<b>From the above graph it can be inferred that the shark attacks are predominant in the Souht Atlantic region and mostly happen in the Afternoon time, where as the second highest attacks occured in South Pacific Region in the morning time</b>"
   ]
  },
  {
   "cell_type": "markdown",
   "metadata": {},
   "source": [
    "### Show the counts of observations in each \"Area\" bins rusing bars"
   ]
  },
  {
   "cell_type": "code",
   "execution_count": 33,
   "metadata": {},
   "outputs": [
    {
     "data": {
      "text/plain": [
       "(array([ 0,  1,  2,  3,  4,  5,  6,  7,  8,  9, 10, 11, 12, 13, 14, 15, 16,\n",
       "        17, 18, 19, 20, 21, 22, 23, 24, 25, 26, 27]),\n",
       " <a list of 28 Text xticklabel objects>)"
      ]
     },
     "execution_count": 33,
     "metadata": {},
     "output_type": "execute_result"
    },
    {
     "data": {
      "image/png": "[encoded data removed]",
      "text/plain": [
       "<Figure size 1152x576 with 1 Axes>"
      ]
     },
     "metadata": {
      "needs_background": "light"
     },
     "output_type": "display_data"
    }
   ],
   "source": [
    "fig, ax = plt.subplots(figsize=(16,8))\n",
    "sns.countplot(x='Area' , data=df)\n",
    "plt.xticks(rotation =90)"
   ]
  },
  {
   "cell_type": "markdown",
   "metadata": {},
   "source": [
    "<b> From the above plot it can be inferred that most of the shark attacks taking place in USA are predominant in the Atlantic cost and occur during the Afternoon time. The highest number of shark attacks happen in the state of \"FLORIDA\"</b>"
   ]
  },
  {
   "cell_type": "code",
   "execution_count": 34,
   "metadata": {},
   "outputs": [],
   "source": [
    "df['Code']=df.Area"
   ]
  },
  {
   "cell_type": "code",
   "execution_count": 35,
   "metadata": {},
   "outputs": [],
   "source": [
    "df['Code']=df['Code'].str.replace('FLORIDA', 'FL')\n",
    "df['Code']=df['Code'].str.replace('HAWAII', 'HI')\n",
    "df['Code']=df['Code'].str.replace('NORTH CAROLINA', 'NC')\n",
    "df['Code']=df['Code'].str.replace('RHODE ISLAND', 'RI')\n",
    "df['Code']=df['Code'].str.replace('GEORGIA', 'GA')\n",
    "df['Code']=df['Code'].str.replace('NEW JERSEY', 'NJ')\n",
    "df['Code']=df['Code'].str.replace('TEXAS', 'TX')\n",
    "df['Code']=df['Code'].str.replace('CALIFORNIA', 'CA')\n",
    "df['Code']=df['Code'].str.replace('ALABAMA', 'AL')\n",
    "df['Code']=df['Code'].str.replace('LOUISIANA', 'LA')\n",
    "df['Code']=df['Code'].str.replace('SOUTH CAROLINA', 'SC')\n",
    "df['Code']=df['Code'].str.replace('OREGON', 'OR')\n",
    "df['Code']=df['Code'].str.replace('MARYLAND', 'MD')\n",
    "df['Code']=df['Code'].str.replace('NEW YORK', 'NY')\n",
    "df['Code']=df['Code'].str.replace('MASSACHUSETTS', 'MA')\n",
    "df['Code']=df['Code'].str.replace('PUERTO RICO', 'PR')\n",
    "df['Code']=df['Code'].str.replace('PALMYRA ATOLL', 'HI')\n",
    "df['Code']=df['Code'].str.replace('DELAWARE', 'DE')\n",
    "df['Code']=df['Code'].str.replace('NEW MEXICO', 'NM')\n",
    "df['Code']=df['Code'].str.replace('US VIRGIN ISLANDS', 'VI')\n",
    "df['Code']=df['Code'].str.replace('GUAM', 'GU')\n",
    "df['Code']=df['Code'].str.replace('ALASKA', 'AK')\n",
    "df['Code']=df['Code'].str.replace('MAINE', 'ME')\n",
    "df['Code']=df['Code'].str.replace('KENTUCKY', 'KY')\n",
    "df['Code']=df['Code'].str.replace('WASHINGTON', 'WA')\n",
    "df['Code']=df['Code'].str.replace('MAINE', 'ME')\n",
    "df['Code']=df['Code'].str.replace('VIRGINIA', 'VA')\n",
    "df['Code']=df['Code'].str.replace('JOHNSTON ATOLL', 'HI')\n",
    "df['Code']=df['Code'].str.replace('MISSOURI', 'MO')\n",
    "df['Code']=df['Code'].str.replace('MISSISSIPPI', 'MI')"
   ]
  },
  {
   "cell_type": "code",
   "execution_count": 36,
   "metadata": {},
   "outputs": [
    {
     "data": {
      "text/plain": [
       "FL     572\n",
       "HI     142\n",
       "CA     120\n",
       "SC      80\n",
       "NC      68\n",
       "TX      34\n",
       "OR      15\n",
       "AL       9\n",
       "MA       8\n",
       "NJ       6\n",
       "NY       5\n",
       "LA       4\n",
       "GA       4\n",
       "PR       3\n",
       "VA       3\n",
       "MD       3\n",
       "DE       2\n",
       "AK       1\n",
       "RI       1\n",
       "WA       1\n",
       "GU       1\n",
       "NM       1\n",
       "VI       1\n",
       "SC       1\n",
       "ME       1\n",
       "KY       1\n",
       "Name: Code, dtype: int64"
      ]
     },
     "execution_count": 36,
     "metadata": {},
     "output_type": "execute_result"
    }
   ],
   "source": [
    "df.Code.value_counts()"
   ]
  },
  {
   "cell_type": "code",
   "execution_count": 1,
   "metadata": {},
   "outputs": [
    {
     "ename": "NameError",
     "evalue": "name 'go' is not defined",
     "output_type": "error",
     "traceback": [
      "\u001b[1;31m---------------------------------------------------------------------------\u001b[0m",
      "\u001b[1;31mNameError\u001b[0m                                 Traceback (most recent call last)",
      "\u001b[1;32m<ipython-input-1-330c38db3288>\u001b[0m in \u001b[0;36m<module>\u001b[1;34m\u001b[0m\n\u001b[0;32m      2\u001b[0m             [0.2, 'rgb(158,154,200)'],[0.7, 'rgb(117,107,177)'],[1.0, 'rgb(84,39,143)']]\n\u001b[0;32m      3\u001b[0m \u001b[1;33m\u001b[0m\u001b[0m\n\u001b[1;32m----> 4\u001b[1;33m fig = go.Figure(data=go.Choropleth(\n\u001b[0m\u001b[0;32m      5\u001b[0m         \u001b[0mlocations\u001b[0m \u001b[1;33m=\u001b[0m \u001b[0mdf\u001b[0m\u001b[1;33m[\u001b[0m\u001b[1;34m'Code'\u001b[0m\u001b[1;33m]\u001b[0m\u001b[1;33m.\u001b[0m\u001b[0mvalue_counts\u001b[0m\u001b[1;33m(\u001b[0m\u001b[1;33m)\u001b[0m\u001b[1;33m.\u001b[0m\u001b[0mindex\u001b[0m\u001b[1;33m,\u001b[0m\u001b[1;33m\u001b[0m\u001b[1;33m\u001b[0m\u001b[0m\n\u001b[0;32m      6\u001b[0m         \u001b[0mcolorscale\u001b[0m \u001b[1;33m=\u001b[0m \u001b[0mscl\u001b[0m\u001b[1;33m,\u001b[0m\u001b[1;33m\u001b[0m\u001b[1;33m\u001b[0m\u001b[0m\n",
      "\u001b[1;31mNameError\u001b[0m: name 'go' is not defined"
     ]
    }
   ],
   "source": [
    "scl = [[0.0, 'rgb(242,240,247)'],[0.0025, 'rgb(218,218,235)'],[0.005, 'rgb(188,189,220)'],\\\n",
    "            [0.2, 'rgb(158,154,200)'],[0.7, 'rgb(117,107,177)'],[1.0, 'rgb(84,39,143)']]\n",
    "\n",
    "fig = go.Figure(data=go.Choropleth(\n",
    "        locations = df['Code'].value_counts().index,\n",
    "        colorscale = scl,\n",
    "        autocolorscale = False,\n",
    "        z = df.Code.value_counts().values.astype(float),\n",
    "        locationmode = 'USA-states', # set of locations match entries in `locations`\n",
    "        colorbar_title = \"Shark Attacks\"\n",
    "        \n",
    "    ) )\n",
    "\n",
    "fig.update_layout(\n",
    "    title_text = 'Shark Attacks after 1990 by State in USA',\n",
    "    geo_scope='usa', # limite map scope to USA\n",
    ")\n",
    "\n",
    "\n",
    "fig.show()"
   ]
  },
  {
   "cell_type": "code",
   "execution_count": null,
   "metadata": {},
   "outputs": [],
   "source": []
  },
  {
   "cell_type": "code",
   "execution_count": null,
   "metadata": {},
   "outputs": [],
   "source": []
  }
 ],
 "metadata": {
  "kernelspec": {
   "display_name": "Python 3",
   "language": "python",
   "name": "python3"
  },
  "language_info": {
   "codemirror_mode": {
    "name": "ipython",
    "version": 3
   },
   "file_extension": ".py",
   "mimetype": "text/x-python",
   "name": "python",
   "nbconvert_exporter": "python",
   "pygments_lexer": "ipython3",
   "version": "3.7.3"
  }
 },
 "nbformat": 4,
 "nbformat_minor": 2
}
